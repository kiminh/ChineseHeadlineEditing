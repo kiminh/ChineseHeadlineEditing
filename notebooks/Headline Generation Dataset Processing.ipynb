{
 "cells": [
  {
   "cell_type": "code",
   "execution_count": 1,
   "metadata": {},
   "outputs": [],
   "source": [
    "import pandas as pd\n",
    "import numpy as np\n",
    "import random\n",
    "import torch\n",
    "import tqdm\n",
    "import nltk\n",
    "import json\n",
    "import pickle\n",
    "import os\n",
    "import regex as re\n",
    "import collections\n",
    "from opencc import OpenCC\n",
    "\n",
    "from transformers import BertTokenizer"
   ]
  },
  {
   "cell_type": "code",
   "execution_count": 2,
   "metadata": {},
   "outputs": [],
   "source": [
    "np.random.seed(123)"
   ]
  },
  {
   "cell_type": "code",
   "execution_count": 3,
   "metadata": {},
   "outputs": [],
   "source": [
    "data_path = \"../data/HeadlineGeneration/\""
   ]
  },
  {
   "cell_type": "code",
   "execution_count": 4,
   "metadata": {},
   "outputs": [],
   "source": [
    "with open(os.path.join(data_path, \"headline_generation.jsonl\")) as f:\n",
    "    data = f.readlines()"
   ]
  },
  {
   "cell_type": "code",
   "execution_count": 5,
   "metadata": {},
   "outputs": [],
   "source": [
    "def replacePunc(x):\n",
    "    x = x.replace(\"，\", \",\").replace(\"‘\", \"'\").replace(\"“\", '\"').replace(\"”\", '\"').replace(\"；\", \";\").\\\n",
    "        replace(\"：\", ':').replace(\"（\", \"(\").replace(\"）\", \")\").replace(\"？\", \"?\").replace(\"【\", \"[\").\\\n",
    "        replace(\"】\", ']').replace(\"『\", \"{\").replace(\"』\", \"}\").replace(\"！\", \"!\").replace(\"～\", \"~\").\\\n",
    "        replace(\"—\", \"-\")\n",
    "    return x\n",
    "\n",
    "def filtering(x):\n",
    "    pattern = r\"[^\\u4e00-\\u9fff0-9A-Za-z\\s+\\.\\!\\/_,：:;-|$%^*()+\\\"\\'+——！，。？、《》“”~@#￥%…&*（）]+\"\n",
    "    return re.sub(pattern, \"\", x)\n",
    "\n",
    "def removeURL(x):\n",
    "    return re.sub(r'https?:\\/\\/[A-Za-z0-9.\\/\\-]*', '', x)\n",
    "\n",
    "cc = OpenCC('t2s')\n",
    "\n",
    "def clean_data(x):\n",
    "    x = replacePunc(x.strip()).replace(\"\\xa0\", \"\").replace(\" \", \"\").lower()\n",
    "    x = cc.convert(x)\n",
    "    x = filtering(x)\n",
    "    x = removeURL(x)\n",
    "    x = x.replace(\"\\t\", \" \")\n",
    "    return x"
   ]
  },
  {
   "cell_type": "markdown",
   "metadata": {},
   "source": [
    "## Split into train, val"
   ]
  },
  {
   "cell_type": "code",
   "execution_count": 6,
   "metadata": {},
   "outputs": [],
   "source": [
    "indices = np.arange(len(data))\n",
    "np.random.shuffle(indices)"
   ]
  },
  {
   "cell_type": "code",
   "execution_count": 7,
   "metadata": {},
   "outputs": [],
   "source": [
    "with open(os.path.join(data_path, \"val.jsonl\"), \"w\") as f:\n",
    "    for idx in indices[:3000]:\n",
    "        f.write(data[idx])\n",
    "        \n",
    "with open(os.path.join(data_path, \"train.jsonl\"), \"w\") as f:\n",
    "    for idx in indices[3000:]:\n",
    "        f.write(data[idx])"
   ]
  },
  {
   "cell_type": "markdown",
   "metadata": {},
   "source": [
    "## Tokenization"
   ]
  },
  {
   "cell_type": "code",
   "execution_count": 8,
   "metadata": {},
   "outputs": [],
   "source": [
    "tokenizer = BertTokenizer.from_pretrained(\"bert-base-chinese\")"
   ]
  },
  {
   "cell_type": "code",
   "execution_count": 11,
   "metadata": {},
   "outputs": [],
   "source": [
    "def process(filename):\n",
    "    # read file and process\n",
    "    with open(filename) as f:\n",
    "        raw_data = f.readlines()\n",
    "\n",
    "    data = []\n",
    "    for line in tqdm.tqdm_notebook(raw_data):\n",
    "        line = json.loads(line)\n",
    "        summary = line['summary']\n",
    "        original = line['haedline']\n",
    "\n",
    "        summary = clean_data(summary)\n",
    "        original = clean_data(original)\n",
    "\n",
    "        summary = tokenizer.tokenize(summary)\n",
    "        original = tokenizer.tokenize(original)\n",
    "\n",
    "        data.append((summary, original))\n",
    "    return data"
   ]
  },
  {
   "cell_type": "code",
   "execution_count": 12,
   "metadata": {},
   "outputs": [
    {
     "data": {
      "application/vnd.jupyter.widget-view+json": {
       "model_id": "34c3a41826294e588071723cfef2cbbe",
       "version_major": 2,
       "version_minor": 0
      },
      "text/plain": [
       "HBox(children=(IntProgress(value=0, max=329216), HTML(value='')))"
      ]
     },
     "metadata": {},
     "output_type": "display_data"
    },
    {
     "name": "stdout",
     "output_type": "stream",
     "text": [
      "\n"
     ]
    },
    {
     "data": {
      "application/vnd.jupyter.widget-view+json": {
       "model_id": "90c2d134f7164747a56331ed7efe0fd0",
       "version_major": 2,
       "version_minor": 0
      },
      "text/plain": [
       "HBox(children=(IntProgress(value=0, max=3000), HTML(value='')))"
      ]
     },
     "metadata": {},
     "output_type": "display_data"
    },
    {
     "name": "stdout",
     "output_type": "stream",
     "text": [
      "\n"
     ]
    }
   ],
   "source": [
    "train_data = process(os.path.join(data_path, \"train.jsonl\"))\n",
    "val_data = process(os.path.join(data_path, \"val.jsonl\"))"
   ]
  },
  {
   "cell_type": "code",
   "execution_count": 13,
   "metadata": {},
   "outputs": [],
   "source": [
    "torch.save(train_data, os.path.join(data_path, \"train_tokenized.pkl\"))\n",
    "torch.save(val_data, os.path.join(data_path, \"val_tokenized.pkl\"))"
   ]
  },
  {
   "cell_type": "code",
   "execution_count": null,
   "metadata": {},
   "outputs": [],
   "source": []
  }
 ],
 "metadata": {
  "kernelspec": {
   "display_name": "Python 3",
   "language": "python",
   "name": "python3"
  },
  "language_info": {
   "codemirror_mode": {
    "name": "ipython",
    "version": 3
   },
   "file_extension": ".py",
   "mimetype": "text/x-python",
   "name": "python",
   "nbconvert_exporter": "python",
   "pygments_lexer": "ipython3",
   "version": "3.7.4"
  }
 },
 "nbformat": 4,
 "nbformat_minor": 2
}
