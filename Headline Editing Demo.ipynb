{
 "cells": [
  {
   "cell_type": "code",
   "execution_count": 1,
   "metadata": {},
   "outputs": [
    {
     "ename": "ImportError",
     "evalue": "cannot import name 'top_filtering' from 'torchfly.text.decode' (/home/wuqy1203/Documents/Projects/TorchFly/torchfly/text/decode/__init__.py)",
     "output_type": "error",
     "traceback": [
      "\u001b[0;31m---------------------------------------------------------------------------\u001b[0m",
      "\u001b[0;31mImportError\u001b[0m                               Traceback (most recent call last)",
      "\u001b[0;32m<ipython-input-1-f868194cd270>\u001b[0m in \u001b[0;36m<module>\u001b[0;34m\u001b[0m\n\u001b[1;32m      6\u001b[0m \u001b[0;32mfrom\u001b[0m \u001b[0mtorchfly\u001b[0m\u001b[0;34m.\u001b[0m\u001b[0mtext\u001b[0m\u001b[0;34m.\u001b[0m\u001b[0mtokenizers\u001b[0m \u001b[0;32mimport\u001b[0m \u001b[0mBertTokenizer\u001b[0m\u001b[0;34m\u001b[0m\u001b[0;34m\u001b[0m\u001b[0m\n\u001b[1;32m      7\u001b[0m \u001b[0;32mfrom\u001b[0m \u001b[0mtorchfly\u001b[0m\u001b[0;34m.\u001b[0m\u001b[0mutils\u001b[0m \u001b[0;32mimport\u001b[0m \u001b[0mget_pretrained_states\u001b[0m\u001b[0;34m\u001b[0m\u001b[0;34m\u001b[0m\u001b[0m\n\u001b[0;32m----> 8\u001b[0;31m \u001b[0;32mfrom\u001b[0m \u001b[0mtorchfly\u001b[0m\u001b[0;34m.\u001b[0m\u001b[0mtext\u001b[0m\u001b[0;34m.\u001b[0m\u001b[0mdecode\u001b[0m \u001b[0;32mimport\u001b[0m \u001b[0mtop_filtering\u001b[0m\u001b[0;34m\u001b[0m\u001b[0;34m\u001b[0m\u001b[0m\n\u001b[0m",
      "\u001b[0;31mImportError\u001b[0m: cannot import name 'top_filtering' from 'torchfly.text.decode' (/home/wuqy1203/Documents/Projects/TorchFly/torchfly/text/decode/__init__.py)"
     ]
    }
   ],
   "source": [
    "import torch\n",
    "import torch.nn as nn\n",
    "import torch.nn.functional as F\n",
    "\n",
    "from torchfly.modules.transformers import CachedBertEncoder, CachedBertDecoderLM, ChineseBERTBaseConfig\n",
    "from torchfly.text.tokenizers import BertTokenizer\n",
    "from torchfly.utils import get_pretrained_states\n",
    "from torchfly.text.decode import top_filtering"
   ]
  },
  {
   "cell_type": "code",
   "execution_count": 2,
   "metadata": {},
   "outputs": [],
   "source": [
    "tokenizer = BertTokenizer.from_pretrained(\"bert-base-chinese\")"
   ]
  },
  {
   "cell_type": "code",
   "execution_count": 52,
   "metadata": {},
   "outputs": [],
   "source": [
    "model_states = torch.load(\"models/model_state_epoch_2.th\")"
   ]
  },
  {
   "cell_type": "code",
   "execution_count": 53,
   "metadata": {},
   "outputs": [],
   "source": [
    "encoder = CachedBertEncoder(ChineseBERTBaseConfig)\n",
    "decoder = CachedBertDecoderLM(ChineseBERTBaseConfig)"
   ]
  },
  {
   "cell_type": "code",
   "execution_count": 54,
   "metadata": {},
   "outputs": [
    {
     "data": {
      "text/plain": [
       "<All keys matched successfully>"
      ]
     },
     "execution_count": 54,
     "metadata": {},
     "output_type": "execute_result"
    }
   ],
   "source": [
    "encoder.load_state_dict(model_states['encoder'], strict=False)\n",
    "decoder.load_state_dict(model_states['decoder'], strict=False)"
   ]
  },
  {
   "cell_type": "code",
   "execution_count": 55,
   "metadata": {},
   "outputs": [],
   "source": [
    "device = torch.device(\"cuda\")\n",
    "encoder = encoder.to(device)\n",
    "decoder = decoder.to(device)"
   ]
  },
  {
   "cell_type": "code",
   "execution_count": 56,
   "metadata": {},
   "outputs": [],
   "source": [
    "val_data = torch.load(\"data/val_tokenized.pkl\")"
   ]
  },
  {
   "cell_type": "code",
   "execution_count": 57,
   "metadata": {},
   "outputs": [],
   "source": [
    "example = val_data[1]"
   ]
  },
  {
   "cell_type": "code",
   "execution_count": 58,
   "metadata": {},
   "outputs": [],
   "source": [
    "def convert_tokens_to_tensor(tokens) -> torch.Tensor:\n",
    "    tensor = [tokenizer._convert_token_to_id(token) for token in tokens]\n",
    "    tensor = torch.LongTensor(tensor)\n",
    "    return tensor"
   ]
  },
  {
   "cell_type": "code",
   "execution_count": 59,
   "metadata": {},
   "outputs": [],
   "source": [
    "summary = [\"[CLS]\"] + example[0] + [\"[SEP]\"]\n",
    "origin_headline = example[1] + [\"[SEP]\"]\n",
    "expert_headline = [\"[CLS]\"] + example[2] + [\"[SEP]\"]"
   ]
  },
  {
   "cell_type": "code",
   "execution_count": 79,
   "metadata": {},
   "outputs": [],
   "source": [
    "top_p = 0.9\n",
    "temperature = 0.8\n",
    "length = 0\n",
    "\n",
    "# convert to torch Tensor\n",
    "encoder_inputs = summary + origin_headline\n",
    "encoder_inputs = convert_tokens_to_tensor(encoder_inputs)\n",
    "\n",
    "encoder_inputs = encoder_inputs.unsqueeze(0).cuda()\n",
    "mask = torch.ones_like(encoder_inputs).cuda()\n",
    "\n",
    "with torch.no_grad():\n",
    "    # the encoder\n",
    "    _, past = encoder(encoder_inputs, mask=mask, past=None)\n",
    "\n",
    "    start_tokens = convert_tokens_to_tensor([\"[CLS]\"]).unsqueeze(0).cuda()\n",
    "    \n",
    "    # cache saves in past\n",
    "    mask = F.pad(mask, (0, 1), \"constant\", 1)\n",
    "    \n",
    "    logits, past = decoder(start_tokens, mask, past=past, past_length=0)\n",
    "    logits = logits[:, -1, :] / temperature\n",
    "    logits = top_filtering(logits, top_p=0.9)\n",
    "\n",
    "    sentence = []\n",
    "\n",
    "    probs = F.softmax(logits, dim=-1)\n",
    "    prob, prev_pred = torch.topk(probs, k=1, dim=-1)\n",
    "    sentence.append(prev_pred)\n",
    "    length += 1\n",
    "    \n",
    "    # decoding loop\n",
    "    for i in range(50):\n",
    "        mask = F.pad(mask, (0, 1), \"constant\", 1.0)\n",
    "        logits, past = decoder(prev_pred, mask, past=past, past_length=length)\n",
    "        logits = logits.squeeze(1) / temperature\n",
    "        logits = top_filtering(logits, top_p=0.9)\n",
    "        probs = F.softmax(logits, dim=-1)\n",
    "        prev_pred = torch.multinomial(probs, num_samples=1)\n",
    "        sentence.append(prev_pred)\n",
    "        length += 1\n",
    "        \n",
    "        if prev_pred.item() == 102:\n",
    "            break\n",
    "\n",
    "    sentence = torch.cat(sentence, dim=-1)"
   ]
  },
  {
   "cell_type": "code",
   "execution_count": 80,
   "metadata": {},
   "outputs": [
    {
     "data": {
      "text/plain": [
       "'这款八重洲的短波电台,到底是什么样子,你更期待哪个?[SEP]'"
      ]
     },
     "execution_count": 80,
     "metadata": {},
     "output_type": "execute_result"
    }
   ],
   "source": [
    "tokenizer.decode(sentence[0].tolist()).replace(\"##\", \"\")"
   ]
  },
  {
   "cell_type": "code",
   "execution_count": 84,
   "metadata": {},
   "outputs": [
    {
     "data": {
      "text/plain": [
       "['用', '17', '年', '前', '的', '配', '置', '还', '能', '打', '动', '消', '费', '者', '?']"
      ]
     },
     "execution_count": 84,
     "metadata": {},
     "output_type": "execute_result"
    }
   ],
   "source": [
    "example[2]"
   ]
  },
  {
   "cell_type": "code",
   "execution_count": null,
   "metadata": {},
   "outputs": [],
   "source": []
  }
 ],
 "metadata": {
  "kernelspec": {
   "display_name": "Python 3",
   "language": "python",
   "name": "python3"
  },
  "language_info": {
   "codemirror_mode": {
    "name": "ipython",
    "version": 3
   },
   "file_extension": ".py",
   "mimetype": "text/x-python",
   "name": "python",
   "nbconvert_exporter": "python",
   "pygments_lexer": "ipython3",
   "version": "3.7.4"
  }
 },
 "nbformat": 4,
 "nbformat_minor": 2
}
