{
 "cells": [
  {
   "cell_type": "code",
   "execution_count": 1,
   "metadata": {},
   "outputs": [],
   "source": [
    "import pandas as pd\n",
    "import numpy as np\n",
    "import torch\n",
    "import tqdm\n",
    "import nltk\n",
    "import json\n",
    "import pickle\n",
    "import os\n",
    "import regex as re\n",
    "import collections\n",
    "from opencc import OpenCC\n",
    "\n",
    "from pytorch_transformers import BertTokenizer"
   ]
  },
  {
   "cell_type": "code",
   "execution_count": 2,
   "metadata": {},
   "outputs": [],
   "source": [
    "def replacePunc(x):\n",
    "    x = x.replace(\"，\", \",\").replace(\"‘\", \"'\").replace(\"“\", '\"').replace(\"”\", '\"').replace(\"；\", \";\").\\\n",
    "        replace(\"：\", ':').replace(\"（\", \"(\").replace(\"）\", \")\").replace(\"？\", \"?\").replace(\"【\", \"[\").\\\n",
    "        replace(\"】\", ']').replace(\"『\", \"{\").replace(\"』\", \"}\").replace(\"！\", \"!\").replace(\"～\", \"~\").\\\n",
    "        replace(\"—\", \"-\")\n",
    "    return x\n",
    "\n",
    "def filtering(x):\n",
    "    pattern = r\"[^\\u4e00-\\u9fff0-9A-Za-z\\s+\\.\\!\\/_,：:;-|$%^*()+\\\"\\'+——！，。？、《》“”~@#￥%…&*（）]+\"\n",
    "    return re.sub(pattern, \"\", x)\n",
    "\n",
    "def removeURL(x):\n",
    "    return re.sub(r'https?:\\/\\/[A-Za-z0-9.\\/\\-]*', '', x)\n",
    "\n",
    "cc = OpenCC('t2s')\n",
    "\n",
    "def clean_data(x):\n",
    "    x = replacePunc(x.strip()).replace(\"\\xa0\", \"\").replace(\" \", \"\").lower()\n",
    "    x = cc.convert(x)\n",
    "    x = filtering(x)\n",
    "    x = removeURL(x)\n",
    "    x = x.replace(\"\\t\", \" \")\n",
    "    return x"
   ]
  },
  {
   "cell_type": "code",
   "execution_count": 3,
   "metadata": {},
   "outputs": [],
   "source": [
    "tokenizer = BertTokenizer.from_pretrained(\"bert-base-chinese\")"
   ]
  },
  {
   "cell_type": "code",
   "execution_count": 4,
   "metadata": {},
   "outputs": [],
   "source": [
    "train_df = pd.read_json(\"../../data/train.json\")\n",
    "val_df = pd.read_json(\"../../data/val.json\")\n",
    "test_df = pd.read_json(\"../../data/test.json\")"
   ]
  },
  {
   "cell_type": "code",
   "execution_count": 5,
   "metadata": {},
   "outputs": [],
   "source": [
    "def process(df):\n",
    "    data = []\n",
    "\n",
    "    for idx in tqdm.tqdm_notebook(range(len(df))):\n",
    "        summary = df.iloc[idx,:]['summarization'][0]\n",
    "        origin_title = df.iloc[idx,:]['origin_title']\n",
    "        third_title = df.iloc[idx,:]['third_title']\n",
    "\n",
    "        summary = clean_data(summary)\n",
    "        origin_title = clean_data(origin_title)\n",
    "        third_title = clean_data(third_title)\n",
    "\n",
    "        summary = tokenizer.tokenize(summary)\n",
    "        origin_title = tokenizer.tokenize(origin_title)\n",
    "        third_title = tokenizer.tokenize(third_title)\n",
    "\n",
    "        data.append((summary, origin_title, third_title))\n",
    "    return data"
   ]
  },
  {
   "cell_type": "code",
   "execution_count": 6,
   "metadata": {},
   "outputs": [
    {
     "data": {
      "application/vnd.jupyter.widget-view+json": {
       "model_id": "4537e501e36b4a358250590efb0fdac8",
       "version_major": 2,
       "version_minor": 0
      },
      "text/plain": [
       "HBox(children=(IntProgress(value=0, max=22908), HTML(value='')))"
      ]
     },
     "metadata": {},
     "output_type": "display_data"
    },
    {
     "name": "stdout",
     "output_type": "stream",
     "text": [
      "\n"
     ]
    },
    {
     "data": {
      "application/vnd.jupyter.widget-view+json": {
       "model_id": "90bfdea631764f5795eead93c2249ef0",
       "version_major": 2,
       "version_minor": 0
      },
      "text/plain": [
       "HBox(children=(IntProgress(value=0, max=1500), HTML(value='')))"
      ]
     },
     "metadata": {},
     "output_type": "display_data"
    },
    {
     "name": "stdout",
     "output_type": "stream",
     "text": [
      "\n"
     ]
    },
    {
     "data": {
      "application/vnd.jupyter.widget-view+json": {
       "model_id": "d9342b2614ae4079836a43e11119642f",
       "version_major": 2,
       "version_minor": 0
      },
      "text/plain": [
       "HBox(children=(IntProgress(value=0, max=1500), HTML(value='')))"
      ]
     },
     "metadata": {},
     "output_type": "display_data"
    },
    {
     "name": "stdout",
     "output_type": "stream",
     "text": [
      "\n"
     ]
    }
   ],
   "source": [
    "train_data = process(train_df)\n",
    "val_data = process(val_df)\n",
    "test_data = process(test_df)"
   ]
  },
  {
   "cell_type": "code",
   "execution_count": 7,
   "metadata": {},
   "outputs": [],
   "source": [
    "torch.save(train_data, \"train_tokenized.pkl\")\n",
    "torch.save(val_data, \"val_tokenized.pkl\")\n",
    "torch.save(test_data, \"test_tokenized.pkl\")"
   ]
  },
  {
   "cell_type": "code",
   "execution_count": null,
   "metadata": {},
   "outputs": [],
   "source": []
  }
 ],
 "metadata": {
  "kernelspec": {
   "display_name": "Python 3",
   "language": "python",
   "name": "python3"
  },
  "language_info": {
   "codemirror_mode": {
    "name": "ipython",
    "version": 3
   },
   "file_extension": ".py",
   "mimetype": "text/x-python",
   "name": "python",
   "nbconvert_exporter": "python",
   "pygments_lexer": "ipython3",
   "version": "3.7.3"
  }
 },
 "nbformat": 4,
 "nbformat_minor": 2
}
